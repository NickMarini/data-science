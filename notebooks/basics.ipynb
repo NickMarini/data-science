{
 "cells": [
  {
   "attachments": {},
   "cell_type": "markdown",
   "metadata": {},
   "source": [
    "# Objectives\n",
    "\n",
    "The idea around this notebook is practical and applies learning of machine learning and data science. I want to compartmentalise it, focus on creating my own process, and create tools which assist with the machine learning process.\n",
    "\n",
    "### Different types of Machine Learning\n",
    "#### Supervised\n",
    "- Classification\n",
    "- Regression\n",
    "\n",
    "#### Unsupervised\n",
    "- Representation Learning\n",
    "- Generative Models\n",
    "\n",
    "### Breaking down the steps:\n",
    "- data sourcing (we have data sets to use - though would like to build in APIs etc.)\n",
    "- data cleaning\n",
    "- Exploratory Data Analysis\n",
    "- Feature Engineering\n",
    "- Modelling\n",
    "- Cross Validation\n",
    "- Parameter tuning"
   ]
  },
  {
   "attachments": {},
   "cell_type": "markdown",
   "metadata": {},
   "source": [
    "This Notebook will give some template code for importing libraries etc.\n",
    "The idea is to have notes and everything needed to start solving a problem in here, then solutions in other notebooks, therefore making it all easy to access and reger too.\n",
    "\n",
    "This notebook is using a virtual env running python 3.8.2 as I will eventually be using some of the azure tools later on and this is the highest python environment you can use for the azure ml libraries.\n",
    "\n",
    "For starters we are going to use sci-kit learn and establish some basic fundamentals with their examples, trying to get an understanding of the concepts and fundamentals - (please note I am doing my masters in data science, and am treating this as a \"can I teach you, to teach myself\" form of study.)"
   ]
  },
  {
   "attachments": {},
   "cell_type": "markdown",
   "metadata": {},
   "source": [
    "#### Basic Libraries Required"
   ]
  },
  {
   "cell_type": "code",
   "execution_count": null,
   "metadata": {},
   "outputs": [],
   "source": [
    "# Fundamental libraries for data science/analysis\n",
    "import pandas as pd\n",
    "import numpy as np\n",
    "import matplotlib.pyplot as plt\n",
    "import seaborn as sns"
   ]
  },
  {
   "cell_type": "code",
   "execution_count": null,
   "metadata": {},
   "outputs": [],
   "source": [
    "# Train test split is a near fundamental part of the sklearn library making it easy to split data into training and testing sets\n",
    "from sklearn.model_selection import train_test_split"
   ]
  }
 ],
 "metadata": {
  "kernelspec": {
   "display_name": "ds_env_38",
   "language": "python",
   "name": "python3"
  },
  "language_info": {
   "name": "python",
   "version": "3.11.1"
  },
  "orig_nbformat": 4
 },
 "nbformat": 4,
 "nbformat_minor": 2
}
